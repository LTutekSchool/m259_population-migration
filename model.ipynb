{
 "cells": [
  {
   "cell_type": "code",
   "execution_count": 1,
   "metadata": {},
   "outputs": [],
   "source": [
    "import pandas as pd\n",
    "from sklearn.model_selection import train_test_split"
   ]
  },
  {
   "cell_type": "code",
   "execution_count": 47,
   "metadata": {},
   "outputs": [
    {
     "data": {
      "text/html": [
       "<div>\n",
       "<style scoped>\n",
       "    .dataframe tbody tr th:only-of-type {\n",
       "        vertical-align: middle;\n",
       "    }\n",
       "\n",
       "    .dataframe tbody tr th {\n",
       "        vertical-align: top;\n",
       "    }\n",
       "\n",
       "    .dataframe thead th {\n",
       "        text-align: right;\n",
       "    }\n",
       "</style>\n",
       "<table border=\"1\" class=\"dataframe\">\n",
       "  <thead>\n",
       "    <tr style=\"text-align: right;\">\n",
       "      <th></th>\n",
       "      <th>country</th>\n",
       "      <th>year</th>\n",
       "      <th>population</th>\n",
       "      <th>netMigration</th>\n",
       "      <th>population_in_millions</th>\n",
       "      <th>population scaled</th>\n",
       "      <th>netMigration scaled</th>\n",
       "      <th>population_in_millions scaled</th>\n",
       "    </tr>\n",
       "  </thead>\n",
       "  <tbody>\n",
       "    <tr>\n",
       "      <th>0</th>\n",
       "      <td>Afghanistan</td>\n",
       "      <td>2023</td>\n",
       "      <td>42239854</td>\n",
       "      <td>-65846</td>\n",
       "      <td>42</td>\n",
       "      <td>0.029565</td>\n",
       "      <td>0.658143</td>\n",
       "      <td>0.029412</td>\n",
       "    </tr>\n",
       "    <tr>\n",
       "      <th>1</th>\n",
       "      <td>Afghanistan</td>\n",
       "      <td>2022</td>\n",
       "      <td>41128771</td>\n",
       "      <td>-65846</td>\n",
       "      <td>41</td>\n",
       "      <td>0.028787</td>\n",
       "      <td>0.658143</td>\n",
       "      <td>0.028711</td>\n",
       "    </tr>\n",
       "    <tr>\n",
       "      <th>2</th>\n",
       "      <td>Afghanistan</td>\n",
       "      <td>2021</td>\n",
       "      <td>40099462</td>\n",
       "      <td>-183672</td>\n",
       "      <td>40</td>\n",
       "      <td>0.028067</td>\n",
       "      <td>0.646407</td>\n",
       "      <td>0.028011</td>\n",
       "    </tr>\n",
       "    <tr>\n",
       "      <th>3</th>\n",
       "      <td>Afghanistan</td>\n",
       "      <td>2020</td>\n",
       "      <td>38972230</td>\n",
       "      <td>166821</td>\n",
       "      <td>38</td>\n",
       "      <td>0.027278</td>\n",
       "      <td>0.681317</td>\n",
       "      <td>0.026611</td>\n",
       "    </tr>\n",
       "    <tr>\n",
       "      <th>4</th>\n",
       "      <td>Afghanistan</td>\n",
       "      <td>2019</td>\n",
       "      <td>37769499</td>\n",
       "      <td>-8082</td>\n",
       "      <td>37</td>\n",
       "      <td>0.026436</td>\n",
       "      <td>0.663896</td>\n",
       "      <td>0.025910</td>\n",
       "    </tr>\n",
       "  </tbody>\n",
       "</table>\n",
       "</div>"
      ],
      "text/plain": [
       "       country  year  population  netMigration  population_in_millions  \\\n",
       "0  Afghanistan  2023    42239854        -65846                      42   \n",
       "1  Afghanistan  2022    41128771        -65846                      41   \n",
       "2  Afghanistan  2021    40099462       -183672                      40   \n",
       "3  Afghanistan  2020    38972230        166821                      38   \n",
       "4  Afghanistan  2019    37769499         -8082                      37   \n",
       "\n",
       "   population scaled  netMigration scaled  population_in_millions scaled  \n",
       "0           0.029565             0.658143                       0.029412  \n",
       "1           0.028787             0.658143                       0.028711  \n",
       "2           0.028067             0.646407                       0.028011  \n",
       "3           0.027278             0.681317                       0.026611  \n",
       "4           0.026436             0.663896                       0.025910  "
      ]
     },
     "execution_count": 47,
     "metadata": {},
     "output_type": "execute_result"
    }
   ],
   "source": [
    "data = pd.read_csv(\"./world_pop_mig_186_countries_scaled.csv\")\n",
    "\n",
    "data.head()"
   ]
  },
  {
   "cell_type": "markdown",
   "metadata": {},
   "source": [
    "# 3.1"
   ]
  },
  {
   "cell_type": "code",
   "execution_count": 58,
   "metadata": {},
   "outputs": [],
   "source": [
    "import pandas as pd\n",
    "import matplotlib.pyplot as plt\n",
    "\n",
    "# Filter data for the USA\n",
    "usa_data = data\n",
    "# Define features and target variable\n",
    "X = usa_data[['year', 'population scaled']]\n",
    "y = usa_data['netMigration scaled']\n",
    "\n",
    "# Split scaled data into training and test sets\n",
    "X_train, X_test, y_train, y_test = train_test_split(X, y, test_size=0.2, random_state=42)\n"
   ]
  },
  {
   "cell_type": "markdown",
   "metadata": {},
   "source": [
    "# 3.2"
   ]
  },
  {
   "cell_type": "markdown",
   "metadata": {},
   "source": [
    "# Modelle vergleichen"
   ]
  },
  {
   "cell_type": "code",
   "execution_count": 64,
   "metadata": {},
   "outputs": [
    {
     "name": "stdout",
     "output_type": "stream",
     "text": [
      "                      Model  Mean Squared Error  R² Score  Score\n",
      "1             Random Forest            0.000116  0.442980  0.579\n",
      "2         Gradient Boosting            0.000124  0.400603  0.507\n",
      "0         Linear Regression            0.000204  0.016420  0.006\n",
      "5            Neural Network            0.000248 -0.197035 -0.150\n",
      "4             KNN Regressor            0.000252 -0.214843  0.136\n",
      "3  Support Vector Regressor            0.000357 -0.721037 -0.555\n"
     ]
    }
   ],
   "source": [
    "from sklearn.ensemble import RandomForestRegressor, GradientBoostingRegressor\n",
    "from sklearn.linear_model import LinearRegression\n",
    "from sklearn.svm import SVR\n",
    "from sklearn.neighbors import KNeighborsRegressor\n",
    "from sklearn.neural_network import MLPRegressor\n",
    "from sklearn.metrics import mean_squared_error, r2_score\n",
    "\n",
    "models = {\n",
    "    \"Linear Regression\": LinearRegression(),\n",
    "    \"Random Forest\": RandomForestRegressor(random_state=42, n_estimators=100, max_depth=10),\n",
    "    \"Gradient Boosting\": GradientBoostingRegressor(random_state=42),\n",
    "    \"Support Vector Regressor\": SVR(),\n",
    "    \"KNN Regressor\": KNeighborsRegressor(n_neighbors=5),\n",
    "    \"Neural Network\": MLPRegressor(random_state=42, max_iter=500)\n",
    "}\n",
    "\n",
    "results = []\n",
    "\n",
    "# evaluate each of the models\n",
    "for name, model in models.items():\n",
    "    model.fit(X_train, y_train.values.ravel())\n",
    "    y_pred = model.predict(X_test)\n",
    "    mse = mean_squared_error(y_test, y_pred)\n",
    "    r2 = r2_score(y_test, y_pred)\n",
    "    score = model.score(X_train, y_train)\n",
    "    results.append((name, mse, r2, round(score,3)))\n",
    "\n",
    "results_df = pd.DataFrame(results, columns=[\"Model\", \"Mean Squared Error\", \"R² Score\", \"Score\"])\n",
    "results_df.sort_values(by=\"R² Score\", ascending=False, inplace=True)\n",
    "\n",
    "print(results_df)\n"
   ]
  },
  {
   "cell_type": "markdown",
   "metadata": {},
   "source": [
    "Ich habe mich für den Random Forest Algorithmus entschieden, da er mit einem Mean Squared Error (MSE) von 0.000116, einem R²-Wert von 0.442980 und einem Score von 0.579 die besten Ergebnisse liefert. Diese Metriken zeigen, dass Random Forest die Datenstruktur effektiv modelliert und eine hohe Vorhersagegenauigkeit bietet. Alternativen wie Gradient Boosting oder lineare Regression erreichen zwar respektable Werte, schneiden jedoch schlechter ab. Random Forest ist zudem robust gegenüber Überanpassung und eignet sich gut für nicht-lineare Zusammenhänge. Das Modell wurde auf den Trainingsdaten trainiert und evaluiert, um optimale Ergebnisse zu gewährleisten."
   ]
  },
  {
   "cell_type": "markdown",
   "metadata": {},
   "source": [
    "# Model berechnen "
   ]
  },
  {
   "cell_type": "code",
   "execution_count": 60,
   "metadata": {},
   "outputs": [
    {
     "name": "stdout",
     "output_type": "stream",
     "text": [
      "Mean Squared Error (MSE): 0.000116\n",
      "R² Score: 0.442980\n"
     ]
    }
   ],
   "source": [
    "from sklearn.ensemble import RandomForestRegressor\n",
    "from sklearn.metrics import mean_squared_error, r2_score\n",
    "\n",
    "# Initialize the model\n",
    "model = RandomForestRegressor(random_state=42, n_estimators=100, max_depth=10)\n",
    "\n",
    "# Train the model on the training data\n",
    "model.fit(X_train, y_train)\n",
    "\n",
    "# Make predictions on the test data\n",
    "y_pred = model.predict(X_test)\n",
    "\n",
    "mse = mean_squared_error(y_test, y_pred)\n",
    "r2 = r2_score(y_test, y_pred)\n",
    "\n",
    "# Display results\n",
    "print(f\"Mean Squared Error (MSE): {mse:.6f}\")\n",
    "print(f\"R² Score: {r2:.6f}\")\n",
    "\n",
    "\n"
   ]
  },
  {
   "cell_type": "markdown",
   "metadata": {},
   "source": [
    "# Save Model "
   ]
  },
  {
   "cell_type": "code",
   "execution_count": 61,
   "metadata": {},
   "outputs": [
    {
     "name": "stdout",
     "output_type": "stream",
     "text": [
      "RandomForestRegressor(max_depth=10, random_state=42)\n"
     ]
    }
   ],
   "source": [
    "import joblib\n",
    "\n",
    "# Save the model\n",
    "joblib.dump(model, 'UsMigration_random_forest_model.joblib')\n",
    "\n",
    "best_model = joblib.load('UsMigration_random_forest_model.joblib')\n",
    "\n",
    "print(best_model)\n"
   ]
  },
  {
   "cell_type": "markdown",
   "metadata": {},
   "source": [
    "# 3.3"
   ]
  },
  {
   "cell_type": "markdown",
   "metadata": {},
   "source": [
    "# Prediction "
   ]
  },
  {
   "cell_type": "code",
   "execution_count": 63,
   "metadata": {},
   "outputs": [
    {
     "data": {
      "text/html": [
       "<div>\n",
       "<style scoped>\n",
       "    .dataframe tbody tr th:only-of-type {\n",
       "        vertical-align: middle;\n",
       "    }\n",
       "\n",
       "    .dataframe tbody tr th {\n",
       "        vertical-align: top;\n",
       "    }\n",
       "\n",
       "    .dataframe thead th {\n",
       "        text-align: right;\n",
       "    }\n",
       "</style>\n",
       "<table border=\"1\" class=\"dataframe\">\n",
       "  <thead>\n",
       "    <tr style=\"text-align: right;\">\n",
       "      <th></th>\n",
       "      <th>Year</th>\n",
       "      <th>Population Scaled</th>\n",
       "      <th>Predicted Net Migration Scaled</th>\n",
       "    </tr>\n",
       "  </thead>\n",
       "  <tbody>\n",
       "    <tr>\n",
       "      <th>0</th>\n",
       "      <td>2024</td>\n",
       "      <td>0.2350</td>\n",
       "      <td>0.749156</td>\n",
       "    </tr>\n",
       "    <tr>\n",
       "      <th>1</th>\n",
       "      <td>2025</td>\n",
       "      <td>0.2365</td>\n",
       "      <td>0.749156</td>\n",
       "    </tr>\n",
       "    <tr>\n",
       "      <th>2</th>\n",
       "      <td>2026</td>\n",
       "      <td>0.2380</td>\n",
       "      <td>0.749156</td>\n",
       "    </tr>\n",
       "    <tr>\n",
       "      <th>3</th>\n",
       "      <td>2027</td>\n",
       "      <td>0.2395</td>\n",
       "      <td>0.749156</td>\n",
       "    </tr>\n",
       "    <tr>\n",
       "      <th>4</th>\n",
       "      <td>2028</td>\n",
       "      <td>0.2410</td>\n",
       "      <td>0.749156</td>\n",
       "    </tr>\n",
       "    <tr>\n",
       "      <th>5</th>\n",
       "      <td>2029</td>\n",
       "      <td>0.2425</td>\n",
       "      <td>0.749156</td>\n",
       "    </tr>\n",
       "    <tr>\n",
       "      <th>6</th>\n",
       "      <td>2030</td>\n",
       "      <td>0.2440</td>\n",
       "      <td>0.749156</td>\n",
       "    </tr>\n",
       "    <tr>\n",
       "      <th>7</th>\n",
       "      <td>2031</td>\n",
       "      <td>0.2455</td>\n",
       "      <td>0.749156</td>\n",
       "    </tr>\n",
       "    <tr>\n",
       "      <th>8</th>\n",
       "      <td>2032</td>\n",
       "      <td>0.2470</td>\n",
       "      <td>0.749156</td>\n",
       "    </tr>\n",
       "    <tr>\n",
       "      <th>9</th>\n",
       "      <td>2033</td>\n",
       "      <td>0.2485</td>\n",
       "      <td>0.749156</td>\n",
       "    </tr>\n",
       "    <tr>\n",
       "      <th>10</th>\n",
       "      <td>2034</td>\n",
       "      <td>25.2500</td>\n",
       "      <td>0.625159</td>\n",
       "    </tr>\n",
       "  </tbody>\n",
       "</table>\n",
       "</div>"
      ],
      "text/plain": [
       "    Year  Population Scaled  Predicted Net Migration Scaled\n",
       "0   2024             0.2350                        0.749156\n",
       "1   2025             0.2365                        0.749156\n",
       "2   2026             0.2380                        0.749156\n",
       "3   2027             0.2395                        0.749156\n",
       "4   2028             0.2410                        0.749156\n",
       "5   2029             0.2425                        0.749156\n",
       "6   2030             0.2440                        0.749156\n",
       "7   2031             0.2455                        0.749156\n",
       "8   2032             0.2470                        0.749156\n",
       "9   2033             0.2485                        0.749156\n",
       "10  2034            25.2500                        0.625159"
      ]
     },
     "execution_count": 63,
     "metadata": {},
     "output_type": "execute_result"
    }
   ],
   "source": [
    "# Generate future data for years from 2024 to 2034\n",
    "future_years = list(range(2024, 2035))  # Includes 2034\n",
    "\n",
    "# Create population scaled values similar to 0.234430 with slight growth\n",
    "future_population_scaled = [\n",
    "    0.235000, 0.236500, 0.238000, 0.239500, 0.241000,\n",
    "    0.242500, 0.244000, 0.245500, 0.247000, 0.248500, 25.250000\n",
    "]  # 11 values corresponding to 2024–2034\n",
    "\n",
    "# Create a DataFrame for future data\n",
    "future_data = pd.DataFrame({\n",
    "    \"year\": future_years,\n",
    "    \"population scaled\": future_population_scaled\n",
    "})\n",
    "\n",
    "# Use the trained model to predict net migration for future years\n",
    "future_predictions = best_model.predict(future_data)\n",
    "\n",
    "# Combine results into a DataFrame\n",
    "future_results = pd.DataFrame({\n",
    "    \"Year\": future_years,\n",
    "    \"Population Scaled\": future_population_scaled,\n",
    "    \"Predicted Net Migration Scaled\": future_predictions\n",
    "})\n",
    "\n",
    "# Display the predictions\n",
    "future_results\n",
    "\n",
    "\n",
    "\n"
   ]
  },
  {
   "cell_type": "code",
   "execution_count": null,
   "metadata": {},
   "outputs": [],
   "source": []
  },
  {
   "cell_type": "code",
   "execution_count": null,
   "metadata": {},
   "outputs": [],
   "source": []
  }
 ],
 "metadata": {
  "kernelspec": {
   "display_name": "Python 3",
   "language": "python",
   "name": "python3"
  },
  "language_info": {
   "codemirror_mode": {
    "name": "ipython",
    "version": 3
   },
   "file_extension": ".py",
   "mimetype": "text/x-python",
   "name": "python",
   "nbconvert_exporter": "python",
   "pygments_lexer": "ipython3",
   "version": "3.12.1"
  }
 },
 "nbformat": 4,
 "nbformat_minor": 2
}
